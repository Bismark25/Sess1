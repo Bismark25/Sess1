{
 "cells": [
  {
   "cell_type": "markdown",
   "id": "published-doctor",
   "metadata": {},
   "source": [  
  {import math
    for x in range(1,50):
      if x%2==0:
         square_root = math.sqrt(x)
         print ("The square root of " +x+ " is " +square_root+ ".")
  },
     ]
     }
